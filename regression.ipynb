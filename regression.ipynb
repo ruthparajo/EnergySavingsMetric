{
 "cells": [
  {
   "cell_type": "code",
   "execution_count": 2,
   "id": "38755476",
   "metadata": {},
   "outputs": [],
   "source": [
    "import pandas as pd\n",
    "import numpy as np\n",
    "import statsmodels.api as sm\n",
    "import matplotlib.pyplot as plt"
   ]
  },
  {
   "cell_type": "markdown",
   "id": "1102016d",
   "metadata": {},
   "source": [
    "### Unweighted day-normalized"
   ]
  },
  {
   "cell_type": "code",
   "execution_count": 22,
   "id": "e0aa7c90",
   "metadata": {},
   "outputs": [
    {
     "name": "stdout",
     "output_type": "stream",
     "text": [
      "                                 OLS Regression Results                                \n",
      "=======================================================================================\n",
      "Dep. Variable:              total_kWh   R-squared (uncentered):                   0.987\n",
      "Model:                            OLS   Adj. R-squared (uncentered):              0.985\n",
      "Method:                 Least Squares   F-statistic:                              541.3\n",
      "Date:                Mon, 15 Sep 2025   Prob (F-statistic):                    4.89e-20\n",
      "Time:                        11:42:55   Log-Likelihood:                         -224.49\n",
      "No. Observations:                  24   AIC:                                      455.0\n",
      "Df Residuals:                      21   BIC:                                      458.5\n",
      "Df Model:                           3                                                  \n",
      "Covariance Type:            nonrobust                                                  \n",
      "=================================================================================\n",
      "                    coef    std err          t      P>|t|      [0.025      0.975]\n",
      "---------------------------------------------------------------------------------\n",
      "days_in_month   548.8889     39.880     13.764      0.000     465.954     631.824\n",
      "HDD 15.5         40.9561      6.011      6.814      0.000      28.457      53.456\n",
      "CDD 22           80.5190     14.200      5.670      0.000      50.988     110.050\n",
      "==============================================================================\n",
      "Omnibus:                       14.526   Durbin-Watson:                   2.132\n",
      "Prob(Omnibus):                  0.001   Jarque-Bera (JB):               15.664\n",
      "Skew:                          -1.342   Prob(JB):                     0.000397\n",
      "Kurtosis:                       5.908   Cond. No.                         11.6\n",
      "==============================================================================\n",
      "\n",
      "Notes:\n",
      "[1] R² is computed without centering (uncentered) since the model does not contain a constant.\n",
      "[2] Standard Errors assume that the covariance matrix of the errors is correctly specified.\n"
     ]
    }
   ],
   "source": [
    "# Load energy data\n",
    "energy = pd.read_csv('data/fasce_monthly_IT012E00314418.csv')\n",
    "energy['date'] = pd.to_datetime(energy['date'])\n",
    "\n",
    "# Load CDD data\n",
    "cdd = pd.read_csv('data/LIML_CDD_22C+-3C.csv', skiprows=6)\n",
    "cdd['Month starting'] = pd.to_datetime(cdd['Month starting'])\n",
    "cdd = cdd[['Month starting', 'CDD 22']]\n",
    "\n",
    "# Load HDD data\n",
    "hdd = pd.read_csv('data/LIML_HDD_15.5C+-3C.csv', skiprows=6)\n",
    "hdd['Month starting'] = pd.to_datetime(hdd['Month starting'])\n",
    "hdd = hdd[['Month starting', 'HDD 15.5']]\n",
    "\n",
    "# Merge all data on month/date\n",
    "df = pd.merge(energy, cdd, left_on='date', right_on='Month starting', how='inner')\n",
    "df = pd.merge(df, hdd, left_on='date', right_on='Month starting', how='inner')\n",
    "# Filter df between 2023 and 2024\n",
    "df = df[(df['date'] >= '2023-01-01') & (df['date'] <= '2024-12-31')]\n",
    "\n",
    "# Prepare regression variables\n",
    "X = df[['days_in_month', 'HDD 15.5', 'CDD 22']]\n",
    "y = df['total_kWh']\n",
    "#X = sm.add_constant(X)  # Adds intercept\n",
    "\n",
    "# Fit regression model\n",
    "model = sm.OLS(y, X).fit()\n",
    "print(model.summary())"
   ]
  },
  {
   "cell_type": "code",
   "execution_count": 23,
   "id": "93d986d5",
   "metadata": {},
   "outputs": [
    {
     "name": "stdout",
     "output_type": "stream",
     "text": [
      "Model Evaluation Metrics\n",
      "R²:      0.987\n",
      "NMBE:    0.09% (target: |≤5% monthly|)\n",
      "CV(RMSE):12.35% (target: ≤15% monthly)\n"
     ]
    }
   ],
   "source": [
    "# Use the model-aligned data and counts\n",
    "resid = model.resid                     # residuals on the training rows actually used\n",
    "y_bar = model.model.endog.mean()        # mean of y on those same rows\n",
    "n = int(model.nobs)                     # number of obs actually used\n",
    "p = len(model.params)                   # number of estimated parameters (incl. intercept if present)\n",
    "\n",
    "nmbe = resid.sum() / ((n - p) * y_bar) * 100\n",
    "rmse = np.sqrt((resid**2).sum() / (n - p))\n",
    "cvrmse = rmse / y_bar * 100\n",
    "\n",
    "\n",
    "\n",
    "print(\"Model Evaluation Metrics\")\n",
    "print(f\"R²:      {model.rsquared:.3f}\")\n",
    "print(f\"NMBE:    {nmbe:.2f}% (target: |≤5% monthly|)\")\n",
    "print(f\"CV(RMSE):{cvrmse:.2f}% (target: ≤15% monthly)\")"
   ]
  },
  {
   "cell_type": "markdown",
   "id": "8e792b11",
   "metadata": {},
   "source": [
    "#### Comparison"
   ]
  },
  {
   "cell_type": "code",
   "execution_count": 24,
   "id": "6091dd91",
   "metadata": {},
   "outputs": [
    {
     "name": "stdout",
     "output_type": "stream",
     "text": [
      "Saved summary to data/regression_summary.csv\n"
     ]
    }
   ],
   "source": [
    "# --- Your regression (already fitted above) ---\n",
    "X = df[['days_in_month', 'HDD 15.5', 'CDD 22']]\n",
    "y = df['total_kWh']\n",
    "model = sm.OLS(y, X).fit()\n",
    "\n",
    "y_pred = model.fittedvalues\n",
    "resid = y - y_pred\n",
    "n, p = len(y), X.shape[1]  # 3 regressors\n",
    "\n",
    "nmbe = resid.sum() / ((n - p) * y.mean()) * 100\n",
    "rmse = np.sqrt((resid**2).sum() / (n - p))\n",
    "cvrmse = rmse / y.mean() * 100\n",
    "\n",
    "# --- Fill one row in the degreedays.net format ---\n",
    "row = {\n",
    "    \"Regression\": \"1\",  # or =\"1 (shortlist)\" to mimic exactly\n",
    "    \"Equation\": \"E = b*days + h*HDD + c*CDD\",\n",
    "    \"Station ID\": \"LIML\",   # put your station/source name\n",
    "    \"Readings\": n,\n",
    "    \"First day\": df[\"date\"].min().strftime(\"%Y-%m-%d\"),\n",
    "    \"Last day\": df[\"date\"].max().strftime(\"%Y-%m-%d\"),\n",
    "    \"Total days\": int((df[\"date\"].max() - df[\"date\"].min()).days) + 1,\n",
    "    \"Gap days\": 0,\n",
    "    \"DD % est\": 0.0,  # leave 0 if not estimated\n",
    "    \"HDD base C\": 15.5,\n",
    "    \"CDD base C\": 22,\n",
    "    \"HDD total\": df[\"HDD 15.5\"].sum(),\n",
    "    \"CDD total\": df[\"CDD 22\"].sum(),\n",
    "    \"Baseload (b)\": model.params[\"days_in_month\"],\n",
    "    \"HDD coef (h)\": model.params[\"HDD 15.5\"],\n",
    "    \"CDD coef (c)\": model.params[\"CDD 22\"],\n",
    "    \"R2\": model.rsquared,\n",
    "    \"R2 adjusted\": model.rsquared_adj,\n",
    "    \"R2 cross-validated\": np.nan,  # not computed locally\n",
    "    \"S\": np.sqrt((resid**2).sum() / (n - p)),  # std. error of estimate\n",
    "    \"CVRMSE\": cvrmse\n",
    "}\n",
    "\n",
    "# --- Save to CSV ---\n",
    "cols = [\n",
    "    \"Regression\",\"Equation\",\"Station ID\",\"Readings\",\"First day\",\"Last day\",\"Total days\",\"Gap days\",\n",
    "    \"DD % est\",\"HDD base C\",\"CDD base C\",\"HDD total\",\"CDD total\",\n",
    "    \"Baseload (b)\",\"HDD coef (h)\",\"CDD coef (c)\",\n",
    "    \"R2\",\"R2 adjusted\",\"R2 cross-validated\",\"S\",\"CVRMSE\",\n",
    "    \"Baseload S\",\"Baseload P\",\"HDD coef S\",\"HDD coef P\",\"CDD coef S\",\"CDD coef P\"\n",
    "]\n",
    "\n",
    "my_summary = pd.DataFrame([row], columns=cols)\n",
    "my_summary.to_csv(\"data/regression_summary.csv\", index=False)\n",
    "\n",
    "print(\"Saved summary to data/regression_summary.csv\")\n"
   ]
  },
  {
   "cell_type": "markdown",
   "id": "242f87d2",
   "metadata": {},
   "source": [
    "### Weighted day-normalized"
   ]
  },
  {
   "cell_type": "code",
   "execution_count": 38,
   "id": "1dcb544b",
   "metadata": {},
   "outputs": [
    {
     "name": "stdout",
     "output_type": "stream",
     "text": [
      "b=549.127433, h=41.051138, c=80.577296\n",
      "R²=0.707, NMBE=-0.00%, CV(RMSE)=12.35%\n"
     ]
    }
   ],
   "source": [
    "# Per-day variables\n",
    "df['E_pd']   = df['total_kWh'] / df['days_in_month']\n",
    "df['HDD_pd'] = df['HDD 15.5']  / df['days_in_month']\n",
    "df['CDD_pd'] = df['CDD 22']    / df['days_in_month']\n",
    "\n",
    "X = sm.add_constant(df[['HDD_pd','CDD_pd']])   # intercept = baseload per day (b)\n",
    "w = df['days_in_month']                        # weights = period length (days)\n",
    "y = df['E_pd']\n",
    "\n",
    "res = sm.WLS(y, X, weights=w).fit()\n",
    "\n",
    "b = res.params['const']        # baseload per day\n",
    "h = res.params['HDD_pd']       # per HDD\n",
    "c = res.params['CDD_pd']       # per CDD\n",
    "\n",
    "# Predictions on totals in the classic form: E = b*days + h*HDD + c*CDD\n",
    "yhat = b*df['days_in_month'] + h*df['HDD 15.5'] + c*df['CDD 22']\n",
    "\n",
    "# ASHRAE Guideline 14 metrics (monthly): p=3 (days, HDD, CDD)\n",
    "resid = df['total_kWh'] - yhat\n",
    "n, p = len(df), 3\n",
    "nmbe   = resid.sum() / ((n - p) * df['total_kWh'].mean()) * 100\n",
    "rmse_d = np.sqrt((resid**2).sum() / (n - p))\n",
    "cvrmse = rmse_d / df['total_kWh'].mean() * 100\n",
    "\n",
    "print(f\"b={b:.6f}, h={h:.6f}, c={c:.6f}\")\n",
    "print(f\"R²={res.rsquared:.3f}, NMBE={nmbe:.2f}%, CV(RMSE)={cvrmse:.2f}%\")\n"
   ]
  },
  {
   "cell_type": "code",
   "execution_count": null,
   "id": "c5f3a836",
   "metadata": {},
   "outputs": [],
   "source": [
    "'''\n",
    "Model E = b*days + h*HDD + c*CDD Evaluation Metrics\n",
    "CDD Base Temperature:22.0, HDD Base Temperature:15.5\n",
    "R²:      0.672\n",
    "NMBE:    22.54% (target: |≤5% monthly|)\n",
    "CV(RMSE):32.37% (target: ≤15% monthly)'''"
   ]
  },
  {
   "cell_type": "markdown",
   "id": "a932b4e3",
   "metadata": {},
   "source": [
    "### No day-normalized"
   ]
  },
  {
   "cell_type": "code",
   "execution_count": 41,
   "id": "26cb51ec",
   "metadata": {},
   "outputs": [
    {
     "name": "stdout",
     "output_type": "stream",
     "text": [
      "                            OLS Regression Results                            \n",
      "==============================================================================\n",
      "Dep. Variable:              total_kWh   R-squared:                       0.724\n",
      "Model:                            OLS   Adj. R-squared:                  0.697\n",
      "Method:                 Least Squares   F-statistic:                     27.48\n",
      "Date:                Fri, 12 Sep 2025   Prob (F-statistic):           1.37e-06\n",
      "Time:                        10:49:47   Log-Likelihood:                -223.69\n",
      "No. Observations:                  24   AIC:                             453.4\n",
      "Df Residuals:                      21   BIC:                             456.9\n",
      "Df Model:                           2                                         \n",
      "Covariance Type:            nonrobust                                         \n",
      "==============================================================================\n",
      "                 coef    std err          t      P>|t|      [0.025      0.975]\n",
      "------------------------------------------------------------------------------\n",
      "const       1.671e+04   1169.648     14.283      0.000    1.43e+04    1.91e+04\n",
      "HDD 15.5      40.7961      5.808      7.024      0.000      28.717      52.875\n",
      "CDD 22        81.9793     13.631      6.014      0.000      53.631     110.327\n",
      "==============================================================================\n",
      "Omnibus:                       14.067   Durbin-Watson:                   2.130\n",
      "Prob(Omnibus):                  0.001   Jarque-Bera (JB):               14.896\n",
      "Skew:                          -1.307   Prob(JB):                     0.000583\n",
      "Kurtosis:                       5.839   Cond. No.                         335.\n",
      "==============================================================================\n",
      "\n",
      "Notes:\n",
      "[1] Standard Errors assume that the covariance matrix of the errors is correctly specified.\n"
     ]
    }
   ],
   "source": [
    "# Regression: E = h*HDD + c*CDD (without days)\n",
    "X2 = df[['HDD 15.5', 'CDD 22']]\n",
    "X2 = sm.add_constant(X2)  # Adds intercept\n",
    "y2 = df['total_kWh']\n",
    "\n",
    "model2 = sm.OLS(y2, X2).fit()\n",
    "print(model2.summary())"
   ]
  },
  {
   "cell_type": "code",
   "execution_count": 42,
   "id": "d151d8bd",
   "metadata": {},
   "outputs": [
    {
     "name": "stdout",
     "output_type": "stream",
     "text": [
      "Model Evaluation Metrics\n",
      "R²:      0.724\n",
      "NMBE:    -0.00% (target: |≤5% monthly|)\n",
      "CV(RMSE):11.94% (target: ≤15% monthly)\n"
     ]
    }
   ],
   "source": [
    "# Use the model-aligned data and counts\n",
    "resid = model2.resid                     # residuals on the training rows actually used\n",
    "y_bar = model2.model.endog.mean()        # mean of y on those same rows\n",
    "n = int(model2.nobs)                     # number of obs actually used\n",
    "p = len(model2.params)                   # number of estimated parameters (incl. intercept if present)\n",
    "\n",
    "nmbe = resid.sum() / ((n - p) * y_bar) * 100\n",
    "rmse = np.sqrt((resid**2).sum() / (n - p))\n",
    "cvrmse = rmse / y_bar * 100\n",
    "\n",
    "\n",
    "\n",
    "print(\"Model Evaluation Metrics\")\n",
    "print(f\"R²:      {model2.rsquared:.3f}\")\n",
    "print(f\"NMBE:    {nmbe:.2f}% (target: |≤5% monthly|)\")\n",
    "print(f\"CV(RMSE):{cvrmse:.2f}% (target: ≤15% monthly)\")"
   ]
  }
 ],
 "metadata": {
  "kernelspec": {
   "display_name": "Python 3",
   "language": "python",
   "name": "python3"
  },
  "language_info": {
   "codemirror_mode": {
    "name": "ipython",
    "version": 3
   },
   "file_extension": ".py",
   "mimetype": "text/x-python",
   "name": "python",
   "nbconvert_exporter": "python",
   "pygments_lexer": "ipython3",
   "version": "3.13.7"
  }
 },
 "nbformat": 4,
 "nbformat_minor": 5
}
