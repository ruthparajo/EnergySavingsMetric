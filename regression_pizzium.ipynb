{
 "cells": [
  {
   "cell_type": "code",
   "execution_count": 22,
   "id": "edac27f1",
   "metadata": {},
   "outputs": [],
   "source": [
    "import pandas as pd\n",
    "import numpy as np\n",
    "import statsmodels.api as sm\n",
    "import matplotlib.pyplot as plt\n",
    "from sklearn.model_selection import LeaveOneOut\n",
    "from sklearn.metrics import r2_score"
   ]
  },
  {
   "cell_type": "code",
   "execution_count": 25,
   "id": "fdce2fb8",
   "metadata": {},
   "outputs": [
    {
     "name": "stdout",
     "output_type": "stream",
     "text": [
      "                                 OLS Regression Results                                \n",
      "=======================================================================================\n",
      "Dep. Variable:         IT012E00135714   R-squared (uncentered):                   0.741\n",
      "Model:                            OLS   Adj. R-squared (uncentered):              0.740\n",
      "Method:                 Least Squares   F-statistic:                              520.6\n",
      "Date:                Mon, 15 Sep 2025   Prob (F-statistic):                   1.72e-107\n",
      "Time:                        15:09:40   Log-Likelihood:                         -4868.9\n",
      "No. Observations:                 366   AIC:                                      9742.\n",
      "Df Residuals:                     364   BIC:                                      9750.\n",
      "Df Model:                           2                                                  \n",
      "Covariance Type:            nonrobust                                                  \n",
      "==============================================================================\n",
      "                 coef    std err          t      P>|t|      [0.025      0.975]\n",
      "------------------------------------------------------------------------------\n",
      "HDD 15.5    2.995e+04   1279.323     23.409      0.000    2.74e+04    3.25e+04\n",
      "CDD 22      7.095e+04   3198.833     22.179      0.000    6.47e+04    7.72e+04\n",
      "==============================================================================\n",
      "Omnibus:                       55.536   Durbin-Watson:                   0.163\n",
      "Prob(Omnibus):                  0.000   Jarque-Bera (JB):               22.007\n",
      "Skew:                          -0.390   Prob(JB):                     1.66e-05\n",
      "Kurtosis:                       2.086   Cond. No.                         2.50\n",
      "==============================================================================\n",
      "\n",
      "Notes:\n",
      "[1] R² is computed without centering (uncentered) since the model does not contain a constant.\n",
      "[2] Standard Errors assume that the covariance matrix of the errors is correctly specified.\n"
     ]
    }
   ],
   "source": [
    "# Load energy data\n",
    "energy = pd.read_csv('data/Pizzium - Via Buonarroti Milano_electricity_D.csv')\n",
    "energy['date'] = pd.to_datetime(energy['utc time'])\n",
    "\n",
    "# Load CDD data\n",
    "cdd = pd.read_csv('data/LIML_CDD_22C_daily.csv', skiprows=6)\n",
    "cdd['Date'] = pd.to_datetime(cdd['Date'])\n",
    "cdd = cdd[['Date', 'CDD 22']]\n",
    "\n",
    "# Load HDD data\n",
    "hdd = pd.read_csv('data/LIML_HDD_15.5C_daily.csv', skiprows=6)\n",
    "hdd['Date'] = pd.to_datetime(hdd['Date'])\n",
    "hdd = hdd[['Date', 'HDD 15.5']]\n",
    "\n",
    "# Merge all data on month/date\n",
    "df = pd.merge(energy, cdd, left_on='date', right_on='Date', how='inner')\n",
    "df = pd.merge(df, hdd, left_on='date', right_on='Date', how='inner')\n",
    "# Filter df between 2023 and 2024\n",
    "df = df[(df['date'] >= '2024-01-01') & (df['date'] <= '2024-12-31')]\n",
    "\n",
    "# Prepare regression variables\n",
    "X = df[['HDD 15.5', 'CDD 22']]\n",
    "y = df['IT012E00135714']\n",
    "#X = sm.add_constant(X)  # Adds intercept\n",
    "\n",
    "# Fit regression model\n",
    "model = sm.OLS(y, X).fit()\n",
    "print(model.summary())"
   ]
  },
  {
   "cell_type": "code",
   "execution_count": 26,
   "id": "0c5fdd8b",
   "metadata": {},
   "outputs": [
    {
     "name": "stdout",
     "output_type": "stream",
     "text": [
      "Model Evaluation Metrics\n",
      "R²:      0.741\n",
      "NMBE:    30.39% (target: |≤10 daily|)\n",
      "CV(RMSE):52.02% (target: ≤30% daily)\n"
     ]
    }
   ],
   "source": [
    "# Use the model-aligned data and counts\n",
    "resid = model.resid                     # residuals on the training rows actually used\n",
    "y_bar = model.model.endog.mean()        # mean of y on those same rows\n",
    "n = int(model.nobs)                     # number of obs actually used\n",
    "p = len(model.params)                   # number of estimated parameters (incl. intercept if present)\n",
    "\n",
    "nmbe = resid.sum() / ((n - p) * y_bar) * 100\n",
    "rmse = np.sqrt((resid**2).sum() / (n - p))\n",
    "cvrmse = rmse / y_bar * 100\n",
    "\n",
    "\n",
    "\n",
    "print(\"Model Evaluation Metrics\")\n",
    "print(f\"R²:      {model.rsquared:.3f}\")\n",
    "print(f\"NMBE:    {nmbe:.2f}% (target: |≤10 daily|)\")\n",
    "print(f\"CV(RMSE):{cvrmse:.2f}% (target: ≤30% daily)\")"
   ]
  },
  {
   "cell_type": "markdown",
   "id": "5473b8d7",
   "metadata": {},
   "source": [
    "### Weekly"
   ]
  },
  {
   "cell_type": "code",
   "execution_count": 27,
   "id": "8dc82235",
   "metadata": {},
   "outputs": [
    {
     "name": "stdout",
     "output_type": "stream",
     "text": [
      "                                 OLS Regression Results                                \n",
      "=======================================================================================\n",
      "Dep. Variable:         IT012E00135714   R-squared (uncentered):                   0.778\n",
      "Model:                            OLS   Adj. R-squared (uncentered):              0.769\n",
      "Method:                 Least Squares   F-statistic:                              89.32\n",
      "Date:                Mon, 15 Sep 2025   Prob (F-statistic):                    2.17e-17\n",
      "Time:                        15:09:54   Log-Likelihood:                         -803.46\n",
      "No. Observations:                  53   AIC:                                      1611.\n",
      "Df Residuals:                      51   BIC:                                      1615.\n",
      "Df Model:                           2                                                  \n",
      "Covariance Type:            nonrobust                                                  \n",
      "==============================================================================\n",
      "                 coef    std err          t      P>|t|      [0.025      0.975]\n",
      "------------------------------------------------------------------------------\n",
      "HDD 15.5    3.122e+04   3241.643      9.630      0.000    2.47e+04    3.77e+04\n",
      "CDD 22      7.566e+04   8187.112      9.241      0.000    5.92e+04    9.21e+04\n",
      "==============================================================================\n",
      "Omnibus:                       37.774   Durbin-Watson:                   0.197\n",
      "Prob(Omnibus):                  0.000   Jarque-Bera (JB):                4.958\n",
      "Skew:                          -0.187   Prob(JB):                       0.0838\n",
      "Kurtosis:                       1.549   Cond. No.                         2.53\n",
      "==============================================================================\n",
      "\n",
      "Notes:\n",
      "[1] R² is computed without centering (uncentered) since the model does not contain a constant.\n",
      "[2] Standard Errors assume that the covariance matrix of the errors is correctly specified.\n"
     ]
    }
   ],
   "source": [
    "import pandas as pd\n",
    "import statsmodels.api as sm\n",
    "\n",
    "# --- Load energy data ---\n",
    "energy = pd.read_csv('data/Pizzium - Via Buonarroti Milano_electricity_D.csv')\n",
    "energy['date'] = pd.to_datetime(energy['utc time'])\n",
    "energy = energy[['date', 'IT012E00135714']]\n",
    "\n",
    "# --- Load CDD data ---\n",
    "cdd = pd.read_csv('data/LIML_CDD_22C_daily.csv', skiprows=6)\n",
    "cdd['Date'] = pd.to_datetime(cdd['Date'])\n",
    "cdd = cdd[['Date', 'CDD 22']].rename(columns={'Date': 'date'})\n",
    "\n",
    "# --- Load HDD data ---\n",
    "hdd = pd.read_csv('data/LIML_HDD_15.5C_daily.csv', skiprows=6)\n",
    "hdd['Date'] = pd.to_datetime(hdd['Date'])\n",
    "hdd = hdd[['Date', 'HDD 15.5']].rename(columns={'Date': 'date'})\n",
    "\n",
    "# --- Merge daily data ---\n",
    "df = pd.merge(energy, cdd, on='date', how='inner')\n",
    "df = pd.merge(df, hdd, on='date', how='inner')\n",
    "\n",
    "# --- Filter between 2024 only ---\n",
    "df = df[(df['date'] >= '2024-01-01') & (df['date'] <= '2024-12-31')]\n",
    "\n",
    "# --- Weekly aggregation ---\n",
    "weekly = df.resample('W', on='date').sum().reset_index()\n",
    "\n",
    "# --- Add \"days\" column for proper baseline modelling ---\n",
    "weekly['days'] = 7  # each resampled period is 7 days\n",
    "\n",
    "# --- Prepare regression variables ---\n",
    "X = weekly[['HDD 15.5', 'CDD 22']]\n",
    "y = weekly['IT012E00135714']\n",
    "\n",
    "# --- Fit regression model ---\n",
    "model = sm.OLS(y, X).fit()\n",
    "print(model.summary())\n"
   ]
  },
  {
   "cell_type": "code",
   "execution_count": 31,
   "id": "41ed0423",
   "metadata": {},
   "outputs": [
    {
     "name": "stdout",
     "output_type": "stream",
     "text": [
      "                IT012E00135714  HDD 15.5    CDD 22\n",
      "IT012E00135714        1.000000 -0.082991  0.761561\n",
      "HDD 15.5             -0.082991  1.000000 -0.492019\n",
      "CDD 22                0.761561 -0.492019  1.000000\n"
     ]
    }
   ],
   "source": [
    "print(weekly[['IT012E00135714','HDD 15.5','CDD 22']].corr())\n"
   ]
  },
  {
   "cell_type": "code",
   "execution_count": 38,
   "id": "1067d89f",
   "metadata": {},
   "outputs": [],
   "source": [
    "weekly.drop(columns=['days'], inplace=True)"
   ]
  },
  {
   "cell_type": "code",
   "execution_count": 39,
   "id": "723b2b98",
   "metadata": {},
   "outputs": [],
   "source": [
    "weekly.to_csv('data/pizzium_weekly.csv', index=False)"
   ]
  },
  {
   "cell_type": "code",
   "execution_count": 23,
   "id": "252b4b60",
   "metadata": {},
   "outputs": [
    {
     "name": "stdout",
     "output_type": "stream",
     "text": [
      "Cross-validated R² (LOOCV): -4.746\n"
     ]
    }
   ],
   "source": [
    "# --- Cross-validated R² (LOOCV) ---\n",
    "loo = LeaveOneOut()\n",
    "y_true, y_pred = [], []\n",
    "\n",
    "for train_idx, test_idx in loo.split(X):\n",
    "    X_train, X_test = X.iloc[train_idx], X.iloc[test_idx]\n",
    "    y_train, y_test = y.iloc[train_idx], y.iloc[test_idx]\n",
    "    \n",
    "    cv_model = sm.OLS(y_train, X_train).fit()\n",
    "    y_pred.append(cv_model.predict(X_test).iloc[0])\n",
    "    y_true.append(y_test.iloc[0])\n",
    "\n",
    "r2_cv = r2_score(y_true, y_pred)\n",
    "print(f\"Cross-validated R² (LOOCV): {r2_cv:.3f}\")"
   ]
  },
  {
   "cell_type": "code",
   "execution_count": 29,
   "id": "1eb31a1d",
   "metadata": {},
   "outputs": [
    {
     "name": "stdout",
     "output_type": "stream",
     "text": [
      "Model Evaluation Metrics\n",
      "R²:      0.778\n",
      "NMBE:    27.62% (target: |≤10% daily|)\n",
      "CV(RMSE):49.03% (target: ≤30% daily)\n"
     ]
    }
   ],
   "source": [
    "# Use the model-aligned data and counts\n",
    "resid = model.resid                     # residuals on the training rows actually used\n",
    "y_bar = model.model.endog.mean()        # mean of y on those same rows\n",
    "n = int(model.nobs)                     # number of obs actually used\n",
    "p = len(model.params)                   # number of estimated parameters (incl. intercept if present)\n",
    "\n",
    "nmbe = resid.sum() / ((n - p) * y_bar) * 100\n",
    "rmse = np.sqrt((resid**2).sum() / (n - p))\n",
    "cvrmse = rmse / y_bar * 100\n",
    "\n",
    "\n",
    "\n",
    "print(\"Model Evaluation Metrics\")\n",
    "print(f\"R²:      {model.rsquared:.3f}\")\n",
    "print(f\"NMBE:    {nmbe:.2f}% (target: |≤10% daily|)\")\n",
    "print(f\"CV(RMSE):{cvrmse:.2f}% (target: ≤30% daily)\")"
   ]
  }
 ],
 "metadata": {
  "kernelspec": {
   "display_name": "Python 3",
   "language": "python",
   "name": "python3"
  },
  "language_info": {
   "codemirror_mode": {
    "name": "ipython",
    "version": 3
   },
   "file_extension": ".py",
   "mimetype": "text/x-python",
   "name": "python",
   "nbconvert_exporter": "python",
   "pygments_lexer": "ipython3",
   "version": "3.13.7"
  }
 },
 "nbformat": 4,
 "nbformat_minor": 5
}
