{
 "cells": [
  {
   "cell_type": "code",
   "execution_count": 1,
   "metadata": {},
   "outputs": [
    {
     "name": "stderr",
     "output_type": "stream",
     "text": [
      "/Users/ruthparajo/anaconda3/lib/python3.11/site-packages/pandas/core/arrays/masked.py:60: UserWarning: Pandas requires version '1.3.6' or newer of 'bottleneck' (version '1.3.5' currently installed).\n",
      "  from pandas.core import (\n"
     ]
    }
   ],
   "source": [
    "import pandas as pd\n",
    "import numpy as np\n",
    "import statsmodels.api as sm\n",
    "import matplotlib.pyplot as plt"
   ]
  },
  {
   "cell_type": "markdown",
   "metadata": {},
   "source": [
    "### Unweighted day-normalized"
   ]
  },
  {
   "cell_type": "code",
   "execution_count": 5,
   "metadata": {},
   "outputs": [
    {
     "name": "stdout",
     "output_type": "stream",
     "text": [
      "                                 OLS Regression Results                                \n",
      "=======================================================================================\n",
      "Dep. Variable:              total_kWh   R-squared (uncentered):                   0.984\n",
      "Model:                            OLS   Adj. R-squared (uncentered):              0.982\n",
      "Method:                 Least Squares   F-statistic:                              435.9\n",
      "Date:                Wed, 17 Sep 2025   Prob (F-statistic):                    4.60e-19\n",
      "Time:                        09:54:08   Log-Likelihood:                         -227.05\n",
      "No. Observations:                  24   AIC:                                      460.1\n",
      "Df Residuals:                      21   BIC:                                      463.6\n",
      "Df Model:                           3                                                  \n",
      "Covariance Type:            nonrobust                                                  \n",
      "=================================================================================\n",
      "                    coef    std err          t      P>|t|      [0.025      0.975]\n",
      "---------------------------------------------------------------------------------\n",
      "days_in_month   435.5230     63.307      6.880      0.000     303.870     567.176\n",
      "HDD 23           28.6015      5.000      5.720      0.000      18.203      39.000\n",
      "CDD 24          154.2868     27.747      5.561      0.000      96.585     211.989\n",
      "==============================================================================\n",
      "Omnibus:                        4.696   Durbin-Watson:                   2.206\n",
      "Prob(Omnibus):                  0.096   Jarque-Bera (JB):                2.878\n",
      "Skew:                          -0.786   Prob(JB):                        0.237\n",
      "Kurtosis:                       3.639   Cond. No.                         32.9\n",
      "==============================================================================\n",
      "\n",
      "Notes:\n",
      "[1] R² is computed without centering (uncentered) since the model does not contain a constant.\n",
      "[2] Standard Errors assume that the covariance matrix of the errors is correctly specified.\n"
     ]
    }
   ],
   "source": [
    "# Load energy data\n",
    "energy = pd.read_csv('data/fasce_monthly_IT012E00314418_full.csv')\n",
    "energy['date'] = pd.to_datetime(energy['date'])\n",
    "\n",
    "# Load CDD data\n",
    "cdd = pd.read_csv('data/LIML_CDD_24C.csv', skiprows=6)\n",
    "cdd['Month starting'] = pd.to_datetime(cdd['Month starting'])\n",
    "cdd = cdd[['Month starting', 'CDD 24']]\n",
    "\n",
    "# Load HDD data\n",
    "hdd = pd.read_csv('data/LIML_HDD_23C.csv', skiprows=6)\n",
    "hdd['Month starting'] = pd.to_datetime(hdd['Month starting'])\n",
    "hdd = hdd[['Month starting', 'HDD 23']]\n",
    "\n",
    "# Merge all data on month/date\n",
    "df = pd.merge(energy, cdd, left_on='date', right_on='Month starting', how='inner')\n",
    "df = pd.merge(df, hdd, left_on='date', right_on='Month starting', how='inner')\n",
    "# Filter df between 2023 and 2024\n",
    "df = df[(df['date'] >= '2023-01-01') & (df['date'] <= '2024-12-31')]\n",
    "\n",
    "# Prepare regression variables\n",
    "X = df[['days_in_month', 'HDD 23', 'CDD 24']]\n",
    "y = df['total_kWh']\n",
    "#X = sm.add_constant(X)  # Adds intercept\n",
    "\n",
    "# Fit regression model\n",
    "model = sm.OLS(y, X).fit()\n",
    "print(model.summary())"
   ]
  },
  {
   "cell_type": "code",
   "execution_count": 6,
   "metadata": {},
   "outputs": [
    {
     "name": "stdout",
     "output_type": "stream",
     "text": [
      "Model Evaluation Metrics\n",
      "R²:      0.984\n",
      "NMBE:    0.11% (target: |≤5% monthly|)\n",
      "CV(RMSE):13.74% (target: ≤15% monthly)\n"
     ]
    }
   ],
   "source": [
    "# Use the model-aligned data and counts\n",
    "resid = model.resid                     # residuals on the training rows actually used\n",
    "y_bar = model.model.endog.mean()        # mean of y on those same rows\n",
    "n = int(model.nobs)                     # number of obs actually used\n",
    "p = len(model.params)                   # number of estimated parameters (incl. intercept if present)\n",
    "\n",
    "nmbe = resid.sum() / ((n - p) * y_bar) * 100\n",
    "rmse = np.sqrt((resid**2).sum() / (n - p))\n",
    "cvrmse = rmse / y_bar * 100\n",
    "\n",
    "\n",
    "\n",
    "print(\"Model Evaluation Metrics\")\n",
    "print(f\"R²:      {model.rsquared:.3f}\")\n",
    "print(f\"NMBE:    {nmbe:.2f}% (target: |≤5% monthly|)\")\n",
    "print(f\"CV(RMSE):{cvrmse:.2f}% (target: ≤15% monthly)\")"
   ]
  },
  {
   "cell_type": "markdown",
   "metadata": {},
   "source": [
    "### Validation"
   ]
  },
  {
   "cell_type": "code",
   "execution_count": 7,
   "metadata": {},
   "outputs": [
    {
     "name": "stdout",
     "output_type": "stream",
     "text": [
      "\n",
      "=== Leaving out 2023 ===\n",
      "Train: {'R²': 0.832179817771866, 'CV(RMSE)': 9.188871658408614, 'NMBE': 0.0957195690320159}\n",
      " Test: {'R²': 0.20982179562970737, 'CV(RMSE)': 16.82563613283516, 'NMBE': -7.603126114512658}\n",
      "\n",
      "=== Leaving out 2024 ===\n",
      "Train: {'R²': 0.3642820767403744, 'CV(RMSE)': 15.091805434406966, 'NMBE': 0.18380705872566458}\n",
      " Test: {'R²': 0.7064539522392257, 'CV(RMSE)': 12.152852037187047, 'NMBE': 7.954801247546088}\n"
     ]
    }
   ],
   "source": [
    "import pandas as pd\n",
    "import numpy as np\n",
    "import statsmodels.api as sm\n",
    "from sklearn.metrics import mean_squared_error, r2_score\n",
    "\n",
    "def compute_metrics(y_true, y_pred, p):\n",
    "    resid = y_true - y_pred\n",
    "    n = len(y_true)\n",
    "\n",
    "    # R²\n",
    "    r2 = r2_score(y_true, y_pred)\n",
    "\n",
    "    # RMSE\n",
    "    rmse = np.sqrt(mean_squared_error(y_true, y_pred))\n",
    "\n",
    "    # CV(RMSE) (%)\n",
    "    cvrmse = rmse / y_true.mean() * 100\n",
    "\n",
    "    # NMBE (%)\n",
    "    nmbe = resid.sum() / ((n - p) * y_true.mean()) * 100\n",
    "\n",
    "    return {\"R²\": r2, \"CV(RMSE)\": cvrmse, \"NMBE\": nmbe}\n",
    "\n",
    "results = {}\n",
    "\n",
    "for year in df['date'].dt.year.unique():\n",
    "    # Train on all years except this one\n",
    "    train = df[df['date'].dt.year != year]\n",
    "    test = df[df['date'].dt.year == year]\n",
    "\n",
    "    X_train = train[['days_in_month', 'HDD 23', 'CDD 24']]\n",
    "    y_train = train['total_kWh']\n",
    "\n",
    "    X_test = test[['days_in_month', 'HDD 23', 'CDD 24']]\n",
    "    y_test = test['total_kWh']\n",
    "\n",
    "    # Fit model (no intercept, to match your setup)\n",
    "    model = sm.OLS(y_train, X_train).fit()\n",
    "\n",
    "    # Predictions\n",
    "    y_pred_train = model.predict(X_train)\n",
    "    y_pred_test = model.predict(X_test)\n",
    "\n",
    "    # Metrics (p = number of predictors = 3 here)\n",
    "    train_metrics = compute_metrics(y_train, y_pred_train, p=X_train.shape[1])\n",
    "    test_metrics = compute_metrics(y_test, y_pred_test, p=X_test.shape[1])\n",
    "\n",
    "    results[year] = {\"train\": train_metrics, \"test\": test_metrics}\n",
    "\n",
    "# Show results\n",
    "for year, metrics in results.items():\n",
    "    print(f\"\\n=== Leaving out {year} ===\")\n",
    "    print(\"Train:\", metrics[\"train\"])\n",
    "    print(\" Test:\", metrics[\"test\"])\n"
   ]
  },
  {
   "cell_type": "markdown",
   "metadata": {},
   "source": []
  }
 ],
 "metadata": {
  "kernelspec": {
   "display_name": "Python 3",
   "language": "python",
   "name": "python3"
  },
  "language_info": {
   "codemirror_mode": {
    "name": "ipython",
    "version": 3
   },
   "file_extension": ".py",
   "mimetype": "text/x-python",
   "name": "python",
   "nbconvert_exporter": "python",
   "pygments_lexer": "ipython3",
   "version": "3.11.5"
  },
  "orig_nbformat": 4
 },
 "nbformat": 4,
 "nbformat_minor": 2
}
