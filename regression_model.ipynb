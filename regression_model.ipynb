{
 "cells": [
  {
   "cell_type": "code",
   "execution_count": 4,
   "metadata": {},
   "outputs": [],
   "source": [
    "import pandas as pd\n",
    "import numpy as np\n",
    "import statsmodels.api as sm\n",
    "import matplotlib.pyplot as plt"
   ]
  },
  {
   "cell_type": "markdown",
   "metadata": {},
   "source": [
    "### Unweighted day-normalized"
   ]
  },
  {
   "cell_type": "code",
   "execution_count": 5,
   "metadata": {},
   "outputs": [
    {
     "name": "stdout",
     "output_type": "stream",
     "text": [
      "                                 OLS Regression Results                                \n",
      "=======================================================================================\n",
      "Dep. Variable:              total_kWh   R-squared (uncentered):                   0.978\n",
      "Model:                            OLS   Adj. R-squared (uncentered):              0.971\n",
      "Method:                 Least Squares   F-statistic:                              133.4\n",
      "Date:                Thu, 18 Sep 2025   Prob (F-statistic):                    8.89e-08\n",
      "Time:                        09:19:26   Log-Likelihood:                         -114.99\n",
      "No. Observations:                  12   AIC:                                      236.0\n",
      "Df Residuals:                       9   BIC:                                      237.4\n",
      "Df Model:                           3                                                  \n",
      "Covariance Type:            nonrobust                                                  \n",
      "=================================================================================\n",
      "                    coef    std err          t      P>|t|      [0.025      0.975]\n",
      "---------------------------------------------------------------------------------\n",
      "days_in_month   478.7934    122.010      3.924      0.003     202.788     754.799\n",
      "HDD 23           23.1197      9.568      2.416      0.039       1.475      44.765\n",
      "CDD 24          125.9936     58.295      2.161      0.059      -5.879     257.866\n",
      "==============================================================================\n",
      "Omnibus:                        0.629   Durbin-Watson:                   1.630\n",
      "Prob(Omnibus):                  0.730   Jarque-Bera (JB):                0.583\n",
      "Skew:                          -0.420   Prob(JB):                        0.747\n",
      "Kurtosis:                       2.320   Cond. No.                         36.4\n",
      "==============================================================================\n",
      "\n",
      "Notes:\n",
      "[1] R² is computed without centering (uncentered) since the model does not contain a constant.\n",
      "[2] Standard Errors assume that the covariance matrix of the errors is correctly specified.\n"
     ]
    },
    {
     "name": "stderr",
     "output_type": "stream",
     "text": [
      "/Users/ruthparajo/anaconda3/lib/python3.11/site-packages/scipy/stats/_axis_nan_policy.py:430: UserWarning: `kurtosistest` p-value may be inaccurate with fewer than 20 observations; only n=12 observations were given.\n",
      "  return hypotest_fun_in(*args, **kwds)\n"
     ]
    }
   ],
   "source": [
    "# Load energy data\n",
    "energy = pd.read_csv('data/fasce_monthly_IT012E00314418_full.csv')\n",
    "energy['date'] = pd.to_datetime(energy['date'])\n",
    "\n",
    "# Load CDD data\n",
    "cdd = pd.read_csv('data/LIML_CDD_24C.csv', skiprows=6)\n",
    "cdd['Month starting'] = pd.to_datetime(cdd['Month starting'])\n",
    "cdd = cdd[['Month starting', 'CDD 24']]\n",
    "\n",
    "# Load HDD data\n",
    "hdd = pd.read_csv('data/LIML_HDD_23C.csv', skiprows=6)\n",
    "hdd['Month starting'] = pd.to_datetime(hdd['Month starting'])\n",
    "hdd = hdd[['Month starting', 'HDD 23']]\n",
    "\n",
    "# Merge all data on month/date\n",
    "df = pd.merge(energy, cdd, left_on='date', right_on='Month starting', how='inner')\n",
    "df = pd.merge(df, hdd, left_on='date', right_on='Month starting', how='inner')\n",
    "# Filter df between 2023 and 2024\n",
    "df = df[(df['date'] >= '2023-01-01') & (df['date'] <= '2023-12-31')]\n",
    "\n",
    "# Prepare regression variables\n",
    "X = df[['days_in_month', 'HDD 23', 'CDD 24']]\n",
    "y = df['total_kWh']\n",
    "#X = sm.add_constant(X)  # Adds intercept\n",
    "\n",
    "# Fit regression model\n",
    "model = sm.OLS(y, X).fit()\n",
    "print(model.summary())"
   ]
  },
  {
   "cell_type": "code",
   "execution_count": 6,
   "metadata": {},
   "outputs": [
    {
     "name": "stdout",
     "output_type": "stream",
     "text": [
      "Model Evaluation Metrics\n",
      "R²:      0.978\n",
      "NMBE:    0.18% (target: |≤5% monthly|)\n",
      "CV(RMSE):17.43% (target: ≤15% monthly)\n"
     ]
    }
   ],
   "source": [
    "# Use the model-aligned data and counts\n",
    "resid = model.resid                     # residuals on the training rows actually used\n",
    "y_bar = model.model.endog.mean()        # mean of y on those same rows\n",
    "n = int(model.nobs)                     # number of obs actually used\n",
    "p = len(model.params)                   # number of estimated parameters (incl. intercept if present)\n",
    "\n",
    "nmbe = resid.sum() / ((n - p) * y_bar) * 100\n",
    "rmse = np.sqrt((resid**2).sum() / (n - p))\n",
    "cvrmse = rmse / y_bar * 100\n",
    "\n",
    "\n",
    "\n",
    "print(\"Model Evaluation Metrics\")\n",
    "print(f\"R²:      {model.rsquared:.3f}\")\n",
    "print(f\"NMBE:    {nmbe:.2f}% (target: |≤5% monthly|)\")\n",
    "print(f\"CV(RMSE):{cvrmse:.2f}% (target: ≤15% monthly)\")"
   ]
  },
  {
   "cell_type": "markdown",
   "metadata": {},
   "source": [
    "### Validation"
   ]
  },
  {
   "cell_type": "code",
   "execution_count": 8,
   "metadata": {},
   "outputs": [
    {
     "ename": "ValueError",
     "evalue": "zero-size array to reduction operation maximum which has no identity",
     "output_type": "error",
     "traceback": [
      "\u001b[0;31m---------------------------------------------------------------------------\u001b[0m",
      "\u001b[0;31mValueError\u001b[0m                                Traceback (most recent call last)",
      "\u001b[1;32m/Users/ruthparajo/Library/CloudStorage/OneDrive-Personal/energy_savings_metric/regression_model.ipynb Cell 6\u001b[0m line \u001b[0;36m3\n\u001b[1;32m     <a href='vscode-notebook-cell:/Users/ruthparajo/Library/CloudStorage/OneDrive-Personal/energy_savings_metric/regression_model.ipynb#W5sZmlsZQ%3D%3D?line=34'>35</a>\u001b[0m y_test \u001b[39m=\u001b[39m test[\u001b[39m'\u001b[39m\u001b[39mtotal_kWh\u001b[39m\u001b[39m'\u001b[39m]\n\u001b[1;32m     <a href='vscode-notebook-cell:/Users/ruthparajo/Library/CloudStorage/OneDrive-Personal/energy_savings_metric/regression_model.ipynb#W5sZmlsZQ%3D%3D?line=36'>37</a>\u001b[0m \u001b[39m# Fit model (no intercept, to match your setup)\u001b[39;00m\n\u001b[0;32m---> <a href='vscode-notebook-cell:/Users/ruthparajo/Library/CloudStorage/OneDrive-Personal/energy_savings_metric/regression_model.ipynb#W5sZmlsZQ%3D%3D?line=37'>38</a>\u001b[0m model \u001b[39m=\u001b[39m sm\u001b[39m.\u001b[39mOLS(y_train, X_train)\u001b[39m.\u001b[39mfit()\n\u001b[1;32m     <a href='vscode-notebook-cell:/Users/ruthparajo/Library/CloudStorage/OneDrive-Personal/energy_savings_metric/regression_model.ipynb#W5sZmlsZQ%3D%3D?line=39'>40</a>\u001b[0m \u001b[39m# Predictions\u001b[39;00m\n\u001b[1;32m     <a href='vscode-notebook-cell:/Users/ruthparajo/Library/CloudStorage/OneDrive-Personal/energy_savings_metric/regression_model.ipynb#W5sZmlsZQ%3D%3D?line=40'>41</a>\u001b[0m y_pred_train \u001b[39m=\u001b[39m model\u001b[39m.\u001b[39mpredict(X_train)\n",
      "File \u001b[0;32m~/anaconda3/lib/python3.11/site-packages/statsmodels/regression/linear_model.py:922\u001b[0m, in \u001b[0;36mOLS.__init__\u001b[0;34m(self, endog, exog, missing, hasconst, **kwargs)\u001b[0m\n\u001b[1;32m    919\u001b[0m     msg \u001b[39m=\u001b[39m (\u001b[39m\"\u001b[39m\u001b[39mWeights are not supported in OLS and will be ignored\u001b[39m\u001b[39m\"\u001b[39m\n\u001b[1;32m    920\u001b[0m            \u001b[39m\"\u001b[39m\u001b[39mAn exception will be raised in the next version.\u001b[39m\u001b[39m\"\u001b[39m)\n\u001b[1;32m    921\u001b[0m     warnings\u001b[39m.\u001b[39mwarn(msg, ValueWarning)\n\u001b[0;32m--> 922\u001b[0m \u001b[39msuper\u001b[39m(OLS, \u001b[39mself\u001b[39m)\u001b[39m.\u001b[39m\u001b[39m__init__\u001b[39m(endog, exog, missing\u001b[39m=\u001b[39mmissing,\n\u001b[1;32m    923\u001b[0m                           hasconst\u001b[39m=\u001b[39mhasconst, \u001b[39m*\u001b[39m\u001b[39m*\u001b[39mkwargs)\n\u001b[1;32m    924\u001b[0m \u001b[39mif\u001b[39;00m \u001b[39m\"\u001b[39m\u001b[39mweights\u001b[39m\u001b[39m\"\u001b[39m \u001b[39min\u001b[39;00m \u001b[39mself\u001b[39m\u001b[39m.\u001b[39m_init_keys:\n\u001b[1;32m    925\u001b[0m     \u001b[39mself\u001b[39m\u001b[39m.\u001b[39m_init_keys\u001b[39m.\u001b[39mremove(\u001b[39m\"\u001b[39m\u001b[39mweights\u001b[39m\u001b[39m\"\u001b[39m)\n",
      "File \u001b[0;32m~/anaconda3/lib/python3.11/site-packages/statsmodels/regression/linear_model.py:748\u001b[0m, in \u001b[0;36mWLS.__init__\u001b[0;34m(self, endog, exog, weights, missing, hasconst, **kwargs)\u001b[0m\n\u001b[1;32m    746\u001b[0m \u001b[39melse\u001b[39;00m:\n\u001b[1;32m    747\u001b[0m     weights \u001b[39m=\u001b[39m weights\u001b[39m.\u001b[39msqueeze()\n\u001b[0;32m--> 748\u001b[0m \u001b[39msuper\u001b[39m(WLS, \u001b[39mself\u001b[39m)\u001b[39m.\u001b[39m\u001b[39m__init__\u001b[39m(endog, exog, missing\u001b[39m=\u001b[39mmissing,\n\u001b[1;32m    749\u001b[0m                           weights\u001b[39m=\u001b[39mweights, hasconst\u001b[39m=\u001b[39mhasconst, \u001b[39m*\u001b[39m\u001b[39m*\u001b[39mkwargs)\n\u001b[1;32m    750\u001b[0m nobs \u001b[39m=\u001b[39m \u001b[39mself\u001b[39m\u001b[39m.\u001b[39mexog\u001b[39m.\u001b[39mshape[\u001b[39m0\u001b[39m]\n\u001b[1;32m    751\u001b[0m weights \u001b[39m=\u001b[39m \u001b[39mself\u001b[39m\u001b[39m.\u001b[39mweights\n",
      "File \u001b[0;32m~/anaconda3/lib/python3.11/site-packages/statsmodels/regression/linear_model.py:202\u001b[0m, in \u001b[0;36mRegressionModel.__init__\u001b[0;34m(self, endog, exog, **kwargs)\u001b[0m\n\u001b[1;32m    201\u001b[0m \u001b[39mdef\u001b[39;00m \u001b[39m__init__\u001b[39m(\u001b[39mself\u001b[39m, endog, exog, \u001b[39m*\u001b[39m\u001b[39m*\u001b[39mkwargs):\n\u001b[0;32m--> 202\u001b[0m     \u001b[39msuper\u001b[39m(RegressionModel, \u001b[39mself\u001b[39m)\u001b[39m.\u001b[39m\u001b[39m__init__\u001b[39m(endog, exog, \u001b[39m*\u001b[39m\u001b[39m*\u001b[39mkwargs)\n\u001b[1;32m    203\u001b[0m     \u001b[39mself\u001b[39m\u001b[39m.\u001b[39mpinv_wexog: Float64Array \u001b[39m|\u001b[39m \u001b[39mNone\u001b[39;00m \u001b[39m=\u001b[39m \u001b[39mNone\u001b[39;00m\n\u001b[1;32m    204\u001b[0m     \u001b[39mself\u001b[39m\u001b[39m.\u001b[39m_data_attr\u001b[39m.\u001b[39mextend([\u001b[39m'\u001b[39m\u001b[39mpinv_wexog\u001b[39m\u001b[39m'\u001b[39m, \u001b[39m'\u001b[39m\u001b[39mwendog\u001b[39m\u001b[39m'\u001b[39m, \u001b[39m'\u001b[39m\u001b[39mwexog\u001b[39m\u001b[39m'\u001b[39m, \u001b[39m'\u001b[39m\u001b[39mweights\u001b[39m\u001b[39m'\u001b[39m])\n",
      "File \u001b[0;32m~/anaconda3/lib/python3.11/site-packages/statsmodels/base/model.py:270\u001b[0m, in \u001b[0;36mLikelihoodModel.__init__\u001b[0;34m(self, endog, exog, **kwargs)\u001b[0m\n\u001b[1;32m    269\u001b[0m \u001b[39mdef\u001b[39;00m \u001b[39m__init__\u001b[39m(\u001b[39mself\u001b[39m, endog, exog\u001b[39m=\u001b[39m\u001b[39mNone\u001b[39;00m, \u001b[39m*\u001b[39m\u001b[39m*\u001b[39mkwargs):\n\u001b[0;32m--> 270\u001b[0m     \u001b[39msuper\u001b[39m()\u001b[39m.\u001b[39m\u001b[39m__init__\u001b[39m(endog, exog, \u001b[39m*\u001b[39m\u001b[39m*\u001b[39mkwargs)\n\u001b[1;32m    271\u001b[0m     \u001b[39mself\u001b[39m\u001b[39m.\u001b[39minitialize()\n",
      "File \u001b[0;32m~/anaconda3/lib/python3.11/site-packages/statsmodels/base/model.py:95\u001b[0m, in \u001b[0;36mModel.__init__\u001b[0;34m(self, endog, exog, **kwargs)\u001b[0m\n\u001b[1;32m     93\u001b[0m missing \u001b[39m=\u001b[39m kwargs\u001b[39m.\u001b[39mpop(\u001b[39m'\u001b[39m\u001b[39mmissing\u001b[39m\u001b[39m'\u001b[39m, \u001b[39m'\u001b[39m\u001b[39mnone\u001b[39m\u001b[39m'\u001b[39m)\n\u001b[1;32m     94\u001b[0m hasconst \u001b[39m=\u001b[39m kwargs\u001b[39m.\u001b[39mpop(\u001b[39m'\u001b[39m\u001b[39mhasconst\u001b[39m\u001b[39m'\u001b[39m, \u001b[39mNone\u001b[39;00m)\n\u001b[0;32m---> 95\u001b[0m \u001b[39mself\u001b[39m\u001b[39m.\u001b[39mdata \u001b[39m=\u001b[39m \u001b[39mself\u001b[39m\u001b[39m.\u001b[39m_handle_data(endog, exog, missing, hasconst,\n\u001b[1;32m     96\u001b[0m                               \u001b[39m*\u001b[39m\u001b[39m*\u001b[39mkwargs)\n\u001b[1;32m     97\u001b[0m \u001b[39mself\u001b[39m\u001b[39m.\u001b[39mk_constant \u001b[39m=\u001b[39m \u001b[39mself\u001b[39m\u001b[39m.\u001b[39mdata\u001b[39m.\u001b[39mk_constant\n\u001b[1;32m     98\u001b[0m \u001b[39mself\u001b[39m\u001b[39m.\u001b[39mexog \u001b[39m=\u001b[39m \u001b[39mself\u001b[39m\u001b[39m.\u001b[39mdata\u001b[39m.\u001b[39mexog\n",
      "File \u001b[0;32m~/anaconda3/lib/python3.11/site-packages/statsmodels/base/model.py:135\u001b[0m, in \u001b[0;36mModel._handle_data\u001b[0;34m(self, endog, exog, missing, hasconst, **kwargs)\u001b[0m\n\u001b[1;32m    134\u001b[0m \u001b[39mdef\u001b[39;00m \u001b[39m_handle_data\u001b[39m(\u001b[39mself\u001b[39m, endog, exog, missing, hasconst, \u001b[39m*\u001b[39m\u001b[39m*\u001b[39mkwargs):\n\u001b[0;32m--> 135\u001b[0m     data \u001b[39m=\u001b[39m handle_data(endog, exog, missing, hasconst, \u001b[39m*\u001b[39m\u001b[39m*\u001b[39mkwargs)\n\u001b[1;32m    136\u001b[0m     \u001b[39m# kwargs arrays could have changed, easier to just attach here\u001b[39;00m\n\u001b[1;32m    137\u001b[0m     \u001b[39mfor\u001b[39;00m key \u001b[39min\u001b[39;00m kwargs:\n",
      "File \u001b[0;32m~/anaconda3/lib/python3.11/site-packages/statsmodels/base/data.py:675\u001b[0m, in \u001b[0;36mhandle_data\u001b[0;34m(endog, exog, missing, hasconst, **kwargs)\u001b[0m\n\u001b[1;32m    672\u001b[0m     exog \u001b[39m=\u001b[39m np\u001b[39m.\u001b[39masarray(exog)\n\u001b[1;32m    674\u001b[0m klass \u001b[39m=\u001b[39m handle_data_class_factory(endog, exog)\n\u001b[0;32m--> 675\u001b[0m \u001b[39mreturn\u001b[39;00m klass(endog, exog\u001b[39m=\u001b[39mexog, missing\u001b[39m=\u001b[39mmissing, hasconst\u001b[39m=\u001b[39mhasconst,\n\u001b[1;32m    676\u001b[0m              \u001b[39m*\u001b[39m\u001b[39m*\u001b[39mkwargs)\n",
      "File \u001b[0;32m~/anaconda3/lib/python3.11/site-packages/statsmodels/base/data.py:88\u001b[0m, in \u001b[0;36mModelData.__init__\u001b[0;34m(self, endog, exog, missing, hasconst, **kwargs)\u001b[0m\n\u001b[1;32m     86\u001b[0m \u001b[39mself\u001b[39m\u001b[39m.\u001b[39mconst_idx \u001b[39m=\u001b[39m \u001b[39mNone\u001b[39;00m\n\u001b[1;32m     87\u001b[0m \u001b[39mself\u001b[39m\u001b[39m.\u001b[39mk_constant \u001b[39m=\u001b[39m \u001b[39m0\u001b[39m\n\u001b[0;32m---> 88\u001b[0m \u001b[39mself\u001b[39m\u001b[39m.\u001b[39m_handle_constant(hasconst)\n\u001b[1;32m     89\u001b[0m \u001b[39mself\u001b[39m\u001b[39m.\u001b[39m_check_integrity()\n\u001b[1;32m     90\u001b[0m \u001b[39mself\u001b[39m\u001b[39m.\u001b[39m_cache \u001b[39m=\u001b[39m {}\n",
      "File \u001b[0;32m~/anaconda3/lib/python3.11/site-packages/statsmodels/base/data.py:132\u001b[0m, in \u001b[0;36mModelData._handle_constant\u001b[0;34m(self, hasconst)\u001b[0m\n\u001b[1;32m    129\u001b[0m \u001b[39melse\u001b[39;00m:\n\u001b[1;32m    130\u001b[0m     \u001b[39m# detect where the constant is\u001b[39;00m\n\u001b[1;32m    131\u001b[0m     check_implicit \u001b[39m=\u001b[39m \u001b[39mFalse\u001b[39;00m\n\u001b[0;32m--> 132\u001b[0m     exog_max \u001b[39m=\u001b[39m np\u001b[39m.\u001b[39mmax(\u001b[39mself\u001b[39m\u001b[39m.\u001b[39mexog, axis\u001b[39m=\u001b[39m\u001b[39m0\u001b[39m)\n\u001b[1;32m    133\u001b[0m     \u001b[39mif\u001b[39;00m \u001b[39mnot\u001b[39;00m np\u001b[39m.\u001b[39misfinite(exog_max)\u001b[39m.\u001b[39mall():\n\u001b[1;32m    134\u001b[0m         \u001b[39mraise\u001b[39;00m MissingDataError(\u001b[39m'\u001b[39m\u001b[39mexog contains inf or nans\u001b[39m\u001b[39m'\u001b[39m)\n",
      "File \u001b[0;32m~/anaconda3/lib/python3.11/site-packages/numpy/core/fromnumeric.py:2810\u001b[0m, in \u001b[0;36mmax\u001b[0;34m(a, axis, out, keepdims, initial, where)\u001b[0m\n\u001b[1;32m   2692\u001b[0m \u001b[39m@array_function_dispatch\u001b[39m(_max_dispatcher)\n\u001b[1;32m   2693\u001b[0m \u001b[39m@set_module\u001b[39m(\u001b[39m'\u001b[39m\u001b[39mnumpy\u001b[39m\u001b[39m'\u001b[39m)\n\u001b[1;32m   2694\u001b[0m \u001b[39mdef\u001b[39;00m \u001b[39mmax\u001b[39m(a, axis\u001b[39m=\u001b[39m\u001b[39mNone\u001b[39;00m, out\u001b[39m=\u001b[39m\u001b[39mNone\u001b[39;00m, keepdims\u001b[39m=\u001b[39mnp\u001b[39m.\u001b[39m_NoValue, initial\u001b[39m=\u001b[39mnp\u001b[39m.\u001b[39m_NoValue,\n\u001b[1;32m   2695\u001b[0m          where\u001b[39m=\u001b[39mnp\u001b[39m.\u001b[39m_NoValue):\n\u001b[1;32m   2696\u001b[0m \u001b[39m    \u001b[39m\u001b[39m\"\"\"\u001b[39;00m\n\u001b[1;32m   2697\u001b[0m \u001b[39m    Return the maximum of an array or maximum along an axis.\u001b[39;00m\n\u001b[1;32m   2698\u001b[0m \n\u001b[0;32m   (...)\u001b[0m\n\u001b[1;32m   2808\u001b[0m \u001b[39m    5\u001b[39;00m\n\u001b[1;32m   2809\u001b[0m \u001b[39m    \"\"\"\u001b[39;00m\n\u001b[0;32m-> 2810\u001b[0m     \u001b[39mreturn\u001b[39;00m _wrapreduction(a, np\u001b[39m.\u001b[39mmaximum, \u001b[39m'\u001b[39m\u001b[39mmax\u001b[39m\u001b[39m'\u001b[39m, axis, \u001b[39mNone\u001b[39;00m, out,\n\u001b[1;32m   2811\u001b[0m                           keepdims\u001b[39m=\u001b[39mkeepdims, initial\u001b[39m=\u001b[39minitial, where\u001b[39m=\u001b[39mwhere)\n",
      "File \u001b[0;32m~/anaconda3/lib/python3.11/site-packages/numpy/core/fromnumeric.py:88\u001b[0m, in \u001b[0;36m_wrapreduction\u001b[0;34m(obj, ufunc, method, axis, dtype, out, **kwargs)\u001b[0m\n\u001b[1;32m     85\u001b[0m         \u001b[39melse\u001b[39;00m:\n\u001b[1;32m     86\u001b[0m             \u001b[39mreturn\u001b[39;00m reduction(axis\u001b[39m=\u001b[39maxis, out\u001b[39m=\u001b[39mout, \u001b[39m*\u001b[39m\u001b[39m*\u001b[39mpasskwargs)\n\u001b[0;32m---> 88\u001b[0m \u001b[39mreturn\u001b[39;00m ufunc\u001b[39m.\u001b[39mreduce(obj, axis, dtype, out, \u001b[39m*\u001b[39m\u001b[39m*\u001b[39mpasskwargs)\n",
      "\u001b[0;31mValueError\u001b[0m: zero-size array to reduction operation maximum which has no identity"
     ]
    }
   ],
   "source": [
    "import pandas as pd\n",
    "import numpy as np\n",
    "import statsmodels.api as sm\n",
    "from sklearn.metrics import mean_squared_error, r2_score\n",
    "\n",
    "def compute_metrics(y_true, y_pred, p):\n",
    "    resid = y_true - y_pred\n",
    "    n = len(y_true)\n",
    "\n",
    "    # R²\n",
    "    r2 = r2_score(y_true, y_pred)\n",
    "\n",
    "    # RMSE\n",
    "    rmse = np.sqrt(mean_squared_error(y_true, y_pred))\n",
    "\n",
    "    # CV(RMSE) (%)\n",
    "    cvrmse = rmse / y_true.mean() * 100\n",
    "\n",
    "    # NMBE (%)\n",
    "    nmbe = resid.sum() / ((n - p) * y_true.mean()) * 100\n",
    "\n",
    "    return {\"R²\": r2, \"CV(RMSE)\": cvrmse, \"NMBE\": nmbe}\n",
    "\n",
    "results = {}\n",
    "\n",
    "for year in df['date'].dt.year.unique():\n",
    "    # Train on all years except this one\n",
    "    train = df[df['date'].dt.year != year]\n",
    "    test = df[df['date'].dt.year == year]\n",
    "\n",
    "    X_train = train[['days_in_month', 'HDD 23', 'CDD 24']]\n",
    "    y_train = train['total_kWh']\n",
    "\n",
    "    X_test = test[['days_in_month', 'HDD 23', 'CDD 24']]\n",
    "    y_test = test['total_kWh']\n",
    "\n",
    "    # Fit model (no intercept, to match your setup)\n",
    "    model = sm.OLS(y_train, X_train).fit()\n",
    "\n",
    "    # Predictions\n",
    "    y_pred_train = model.predict(X_train)\n",
    "    y_pred_test = model.predict(X_test)\n",
    "\n",
    "    # Metrics (p = number of predictors = 3 here)\n",
    "    train_metrics = compute_metrics(y_train, y_pred_train, p=X_train.shape[1])\n",
    "    test_metrics = compute_metrics(y_test, y_pred_test, p=X_test.shape[1])\n",
    "\n",
    "    results[year] = {\"train\": train_metrics, \"test\": test_metrics}\n",
    "\n",
    "# Show results\n",
    "for year, metrics in results.items():\n",
    "    print(f\"\\n=== Leaving out {year} ===\")\n",
    "    print(\"Train:\", metrics[\"train\"])\n",
    "    print(\" Test:\", metrics[\"test\"])\n"
   ]
  },
  {
   "cell_type": "code",
   "execution_count": null,
   "metadata": {},
   "outputs": [
    {
     "name": "stdout",
     "output_type": "stream",
     "text": [
      "   Year left out  Train R²  Train CV(RMSE)%  Train NMBE%  Test R²  \\\n",
      "0           2023     0.832            9.189        0.096    0.210   \n",
      "1           2024     0.364           15.092        0.184    0.706   \n",
      "\n",
      "   Test CV(RMSE)%  Test NMBE%  \n",
      "0          16.826      -7.603  \n",
      "1          12.153       7.955  \n"
     ]
    }
   ],
   "source": [
    "summary = []\n",
    "for year, metrics in results.items():\n",
    "    row = {\n",
    "        \"Year left out\": year,\n",
    "        \"Train R²\": metrics[\"train\"][\"R²\"],\n",
    "        \"Train CV(RMSE)%\": metrics[\"train\"][\"CV(RMSE)\"],\n",
    "        \"Train NMBE%\": metrics[\"train\"][\"NMBE\"],\n",
    "        \"Test R²\": metrics[\"test\"][\"R²\"],\n",
    "        \"Test CV(RMSE)%\": metrics[\"test\"][\"CV(RMSE)\"],\n",
    "        \"Test NMBE%\": metrics[\"test\"][\"NMBE\"]\n",
    "    }\n",
    "    summary.append(row)\n",
    "\n",
    "summary_df = pd.DataFrame(summary)\n",
    "print(summary_df.round(3))\n"
   ]
  },
  {
   "cell_type": "code",
   "execution_count": null,
   "metadata": {},
   "outputs": [
    {
     "ename": "NameError",
     "evalue": "name 'summary_df' is not defined",
     "output_type": "error",
     "traceback": [
      "\u001b[0;31m---------------------------------------------------------------------------\u001b[0m",
      "\u001b[0;31mNameError\u001b[0m                                 Traceback (most recent call last)",
      "\u001b[1;32m/Users/ruthparajo/Library/CloudStorage/OneDrive-Personal/energy_savings_metric/regression_model.ipynb Cell 8\u001b[0m line \u001b[0;36m1\n\u001b[0;32m----> <a href='vscode-notebook-cell:/Users/ruthparajo/Library/CloudStorage/OneDrive-Personal/energy_savings_metric/regression_model.ipynb#X10sZmlsZQ%3D%3D?line=0'>1</a>\u001b[0m summary_df\n",
      "\u001b[0;31mNameError\u001b[0m: name 'summary_df' is not defined"
     ]
    }
   ],
   "source": [
    "summary_df"
   ]
  },
  {
   "cell_type": "markdown",
   "metadata": {},
   "source": [
    "#### Test"
   ]
  },
  {
   "cell_type": "code",
   "execution_count": null,
   "metadata": {},
   "outputs": [],
   "source": [
    "test_data = pd.read_csv('data/WAO Romolo C32_electricity_M.csv')\n"
   ]
  },
  {
   "cell_type": "code",
   "execution_count": null,
   "metadata": {},
   "outputs": [],
   "source": [
    "# 1. Get predictions on test data\n",
    "y_test = test_data[y_col]                # actual test values\n",
    "y_pred = model.predict(test_data[X_cols]) # predicted test values\n",
    "\n",
    "# 2. Residuals (errors on test data)\n",
    "resid = y_test - y_pred\n",
    "\n",
    "# 3. Needed values\n",
    "y_bar = y_test.mean()      # mean of y on the test set\n",
    "n = len(y_test)            # number of test observations\n",
    "p = len(model.params)      # number of estimated parameters (same as training)\n",
    "\n",
    "# 4. Metrics\n",
    "nmbe = resid.sum() / ((n - p) * y_bar) * 100\n",
    "rmse = np.sqrt((resid**2).sum() / (n - p))\n",
    "cvrmse = rmse / y_bar * 100\n",
    "\n",
    "# 5. Print results\n",
    "print(\"Test Data Evaluation Metrics\")\n",
    "print(f\"R²:      {model.rsquared:.3f} (training R², test doesn't have this by default)\")\n",
    "print(f\"NMBE:    {nmbe:.2f}% (target: |≤5% monthly|)\")\n",
    "print(f\"CV(RMSE):{cvrmse:.2f}% (target: ≤15% monthly)\")\n",
    "\n",
    "# Optional: Show predictions vs actuals\n",
    "results = pd.DataFrame({\"Actual\": y_test, \"Predicted\": y_pred, \"Residual\": resid})\n",
    "print(results.head())"
   ]
  },
  {
   "cell_type": "markdown",
   "metadata": {},
   "source": [
    "### Model with daily data"
   ]
  },
  {
   "cell_type": "code",
   "execution_count": 10,
   "metadata": {},
   "outputs": [
    {
     "name": "stdout",
     "output_type": "stream",
     "text": [
      "                                 OLS Regression Results                                \n",
      "=======================================================================================\n",
      "Dep. Variable:         IT012E00314418   R-squared (uncentered):                   0.789\n",
      "Model:                            OLS   Adj. R-squared (uncentered):              0.787\n",
      "Method:                 Least Squares   F-statistic:                              660.2\n",
      "Date:                Thu, 18 Sep 2025   Prob (F-statistic):                   3.56e-120\n",
      "Time:                        09:42:33   Log-Likelihood:                         -5115.6\n",
      "No. Observations:                 356   AIC:                                  1.024e+04\n",
      "Df Residuals:                     354   BIC:                                  1.024e+04\n",
      "Df Model:                           2                                                  \n",
      "Covariance Type:            nonrobust                                                  \n",
      "==============================================================================\n",
      "                 coef    std err          t      P>|t|      [0.025      0.975]\n",
      "------------------------------------------------------------------------------\n",
      "HDD 15.5    1.139e+05   3854.206     29.541      0.000    1.06e+05    1.21e+05\n",
      "CDD 22      1.963e+05   9294.020     21.123      0.000    1.78e+05    2.15e+05\n",
      "==============================================================================\n",
      "Omnibus:                       65.672   Durbin-Watson:                   0.602\n",
      "Prob(Omnibus):                  0.000   Jarque-Bera (JB):              107.634\n",
      "Skew:                          -1.084   Prob(JB):                     4.24e-24\n",
      "Kurtosis:                       4.597   Cond. No.                         2.41\n",
      "==============================================================================\n",
      "\n",
      "Notes:\n",
      "[1] R² is computed without centering (uncentered) since the model does not contain a constant.\n",
      "[2] Standard Errors assume that the covariance matrix of the errors is correctly specified.\n"
     ]
    }
   ],
   "source": [
    "# Load energy data\n",
    "energy = pd.read_csv('data/Viale Cassala, 30_electricity_D.csv')\n",
    "energy['date'] = pd.to_datetime(energy['utc time'])\n",
    "\n",
    "# Load CDD data\n",
    "cdd = pd.read_csv('data/LIML_CDD_22C_daily.csv', skiprows=6)\n",
    "cdd['Date'] = pd.to_datetime(cdd['Date'])\n",
    "cdd = cdd[['Date', 'CDD 22']]\n",
    "\n",
    "# Load HDD data\n",
    "hdd = pd.read_csv('data/LIML_HDD_15.5C_daily.csv', skiprows=6)\n",
    "hdd['Date'] = pd.to_datetime(hdd['Date'])\n",
    "hdd = hdd[['Date', 'HDD 15.5']]\n",
    "\n",
    "# Merge all data on month/date\n",
    "df = pd.merge(energy, cdd, left_on='date', right_on='Date', how='inner')\n",
    "df = pd.merge(df, hdd, left_on='date', right_on='Date', how='inner')\n",
    "# Filter df between 2023 and 2024\n",
    "df = df[(df['date'] >= '2024-01-01') & (df['date'] <= '2024-12-31')]\n",
    "\n",
    "# Prepare regression variables\n",
    "X = df[['HDD 15.5', 'CDD 22']]\n",
    "y = df['IT012E00314418']\n",
    "#X = sm.add_constant(X)  # Adds intercept\n",
    "\n",
    "# Fit regression model\n",
    "model = sm.OLS(y, X).fit()\n",
    "print(model.summary())"
   ]
  },
  {
   "cell_type": "code",
   "execution_count": 11,
   "metadata": {},
   "outputs": [
    {
     "name": "stdout",
     "output_type": "stream",
     "text": [
      "Model Evaluation Metrics\n",
      "R²:      0.789\n",
      "NMBE:    23.89% (target: |≤10 daily|)\n",
      "CV(RMSE):49.76% (target: ≤30% daily)\n"
     ]
    }
   ],
   "source": [
    "# Use the model-aligned data and counts\n",
    "resid = model.resid                     # residuals on the training rows actually used\n",
    "y_bar = model.model.endog.mean()        # mean of y on those same rows\n",
    "n = int(model.nobs)                     # number of obs actually used\n",
    "p = len(model.params)                   # number of estimated parameters (incl. intercept if present)\n",
    "\n",
    "nmbe = resid.sum() / ((n - p) * y_bar) * 100\n",
    "rmse = np.sqrt((resid**2).sum() / (n - p))\n",
    "cvrmse = rmse / y_bar * 100\n",
    "\n",
    "\n",
    "\n",
    "print(\"Model Evaluation Metrics\")\n",
    "print(f\"R²:      {model.rsquared:.3f}\")\n",
    "print(f\"NMBE:    {nmbe:.2f}% (target: |≤10 daily|)\")\n",
    "print(f\"CV(RMSE):{cvrmse:.2f}% (target: ≤30% daily)\")"
   ]
  }
 ],
 "metadata": {
  "kernelspec": {
   "display_name": "Python 3",
   "language": "python",
   "name": "python3"
  },
  "language_info": {
   "codemirror_mode": {
    "name": "ipython",
    "version": 3
   },
   "file_extension": ".py",
   "mimetype": "text/x-python",
   "name": "python",
   "nbconvert_exporter": "python",
   "pygments_lexer": "ipython3",
   "version": "3.11.5"
  },
  "orig_nbformat": 4
 },
 "nbformat": 4,
 "nbformat_minor": 2
}
